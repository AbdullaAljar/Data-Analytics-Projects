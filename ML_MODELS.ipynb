{
 "cells": [
  {
   "cell_type": "markdown",
   "id": "89beb1b6",
   "metadata": {},
   "source": [
    "# ------------------------------------------ DATASET ML MODELS -----------------------------------------------"
   ]
  },
  {
   "cell_type": "markdown",
   "id": "fd3f9887",
   "metadata": {},
   "source": [
    "#### Upload the dataset and describe it"
   ]
  },
  {
   "cell_type": "code",
   "execution_count": 1,
   "id": "62450ccd",
   "metadata": {},
   "outputs": [],
   "source": [
    "#import libraries\n",
    "\n",
    "import pandas as pd\n",
    "import numpy as np\n",
    "import matplotlib.pyplot as plt\n",
    "import seaborn as sns"
   ]
  },
  {
   "cell_type": "code",
   "execution_count": 2,
   "id": "d16bdfaf",
   "metadata": {},
   "outputs": [
    {
     "data": {
      "text/html": [
       "<div>\n",
       "<style scoped>\n",
       "    .dataframe tbody tr th:only-of-type {\n",
       "        vertical-align: middle;\n",
       "    }\n",
       "\n",
       "    .dataframe tbody tr th {\n",
       "        vertical-align: top;\n",
       "    }\n",
       "\n",
       "    .dataframe thead th {\n",
       "        text-align: right;\n",
       "    }\n",
       "</style>\n",
       "<table border=\"1\" class=\"dataframe\">\n",
       "  <thead>\n",
       "    <tr style=\"text-align: right;\">\n",
       "      <th></th>\n",
       "      <th>Product</th>\n",
       "      <th>Model</th>\n",
       "      <th>Volume</th>\n",
       "      <th>Weight</th>\n",
       "      <th>Quality</th>\n",
       "    </tr>\n",
       "  </thead>\n",
       "  <tbody>\n",
       "    <tr>\n",
       "      <th>0</th>\n",
       "      <td>To</td>\n",
       "      <td>A1</td>\n",
       "      <td>1000</td>\n",
       "      <td>790</td>\n",
       "      <td>99</td>\n",
       "    </tr>\n",
       "    <tr>\n",
       "      <th>1</th>\n",
       "      <td>Mit</td>\n",
       "      <td>A2</td>\n",
       "      <td>1200</td>\n",
       "      <td>1160</td>\n",
       "      <td>95</td>\n",
       "    </tr>\n",
       "    <tr>\n",
       "      <th>2</th>\n",
       "      <td>Sk</td>\n",
       "      <td>A3</td>\n",
       "      <td>1000</td>\n",
       "      <td>929</td>\n",
       "      <td>95</td>\n",
       "    </tr>\n",
       "    <tr>\n",
       "      <th>3</th>\n",
       "      <td>Fi</td>\n",
       "      <td>A4</td>\n",
       "      <td>900</td>\n",
       "      <td>865</td>\n",
       "      <td>90</td>\n",
       "    </tr>\n",
       "    <tr>\n",
       "      <th>4</th>\n",
       "      <td>Mi</td>\n",
       "      <td>A5</td>\n",
       "      <td>1500</td>\n",
       "      <td>1140</td>\n",
       "      <td>105</td>\n",
       "    </tr>\n",
       "  </tbody>\n",
       "</table>\n",
       "</div>"
      ],
      "text/plain": [
       "  Product Model  Volume  Weight  Quality\n",
       "0      To    A1    1000     790       99\n",
       "1     Mit    A2    1200    1160       95\n",
       "2      Sk    A3    1000     929       95\n",
       "3      Fi    A4     900     865       90\n",
       "4      Mi    A5    1500    1140      105"
      ]
     },
     "execution_count": 2,
     "metadata": {},
     "output_type": "execute_result"
    }
   ],
   "source": [
    "data = pd.read_excel('data.xlsx')\n",
    "data.head()"
   ]
  },
  {
   "cell_type": "code",
   "execution_count": 3,
   "id": "ec03b629",
   "metadata": {},
   "outputs": [
    {
     "data": {
      "text/html": [
       "<div>\n",
       "<style scoped>\n",
       "    .dataframe tbody tr th:only-of-type {\n",
       "        vertical-align: middle;\n",
       "    }\n",
       "\n",
       "    .dataframe tbody tr th {\n",
       "        vertical-align: top;\n",
       "    }\n",
       "\n",
       "    .dataframe thead th {\n",
       "        text-align: right;\n",
       "    }\n",
       "</style>\n",
       "<table border=\"1\" class=\"dataframe\">\n",
       "  <thead>\n",
       "    <tr style=\"text-align: right;\">\n",
       "      <th></th>\n",
       "      <th>Volume</th>\n",
       "      <th>Weight</th>\n",
       "      <th>Quality</th>\n",
       "    </tr>\n",
       "  </thead>\n",
       "  <tbody>\n",
       "    <tr>\n",
       "      <th>count</th>\n",
       "      <td>36.000000</td>\n",
       "      <td>36.000000</td>\n",
       "      <td>36.000000</td>\n",
       "    </tr>\n",
       "    <tr>\n",
       "      <th>mean</th>\n",
       "      <td>1611.111111</td>\n",
       "      <td>1292.277778</td>\n",
       "      <td>102.027778</td>\n",
       "    </tr>\n",
       "    <tr>\n",
       "      <th>std</th>\n",
       "      <td>388.975047</td>\n",
       "      <td>242.123889</td>\n",
       "      <td>7.454571</td>\n",
       "    </tr>\n",
       "    <tr>\n",
       "      <th>min</th>\n",
       "      <td>900.000000</td>\n",
       "      <td>790.000000</td>\n",
       "      <td>90.000000</td>\n",
       "    </tr>\n",
       "    <tr>\n",
       "      <th>25%</th>\n",
       "      <td>1475.000000</td>\n",
       "      <td>1117.250000</td>\n",
       "      <td>97.750000</td>\n",
       "    </tr>\n",
       "    <tr>\n",
       "      <th>50%</th>\n",
       "      <td>1600.000000</td>\n",
       "      <td>1329.000000</td>\n",
       "      <td>99.000000</td>\n",
       "    </tr>\n",
       "    <tr>\n",
       "      <th>75%</th>\n",
       "      <td>2000.000000</td>\n",
       "      <td>1418.250000</td>\n",
       "      <td>105.000000</td>\n",
       "    </tr>\n",
       "    <tr>\n",
       "      <th>max</th>\n",
       "      <td>2500.000000</td>\n",
       "      <td>1746.000000</td>\n",
       "      <td>120.000000</td>\n",
       "    </tr>\n",
       "  </tbody>\n",
       "</table>\n",
       "</div>"
      ],
      "text/plain": [
       "            Volume       Weight     Quality\n",
       "count    36.000000    36.000000   36.000000\n",
       "mean   1611.111111  1292.277778  102.027778\n",
       "std     388.975047   242.123889    7.454571\n",
       "min     900.000000   790.000000   90.000000\n",
       "25%    1475.000000  1117.250000   97.750000\n",
       "50%    1600.000000  1329.000000   99.000000\n",
       "75%    2000.000000  1418.250000  105.000000\n",
       "max    2500.000000  1746.000000  120.000000"
      ]
     },
     "execution_count": 3,
     "metadata": {},
     "output_type": "execute_result"
    }
   ],
   "source": [
    "data.describe()"
   ]
  },
  {
   "cell_type": "code",
   "execution_count": 4,
   "id": "aa348dd6",
   "metadata": {},
   "outputs": [
    {
     "data": {
      "text/plain": [
       "(36, 5)"
      ]
     },
     "execution_count": 4,
     "metadata": {},
     "output_type": "execute_result"
    }
   ],
   "source": [
    "data.shape"
   ]
  },
  {
   "cell_type": "code",
   "execution_count": 5,
   "id": "a8983a64",
   "metadata": {},
   "outputs": [
    {
     "name": "stdout",
     "output_type": "stream",
     "text": [
      "<class 'pandas.core.frame.DataFrame'>\n",
      "RangeIndex: 36 entries, 0 to 35\n",
      "Data columns (total 5 columns):\n",
      " #   Column   Non-Null Count  Dtype \n",
      "---  ------   --------------  ----- \n",
      " 0   Product  36 non-null     object\n",
      " 1   Model    36 non-null     object\n",
      " 2   Volume   36 non-null     int64 \n",
      " 3   Weight   36 non-null     int64 \n",
      " 4   Quality  36 non-null     int64 \n",
      "dtypes: int64(3), object(2)\n",
      "memory usage: 1.5+ KB\n"
     ]
    }
   ],
   "source": [
    "data.info()"
   ]
  },
  {
   "cell_type": "markdown",
   "id": "2b894c22",
   "metadata": {},
   "source": [
    "#### Prepare the dataset and make an exploratory analysis / checking variables"
   ]
  },
  {
   "cell_type": "code",
   "execution_count": 6,
   "id": "04d2c15b",
   "metadata": {},
   "outputs": [
    {
     "name": "stdout",
     "output_type": "stream",
     "text": [
      "There is no missing values!\n"
     ]
    },
    {
     "data": {
      "text/plain": [
       "Product    0\n",
       "Model      0\n",
       "Volume     0\n",
       "Weight     0\n",
       "Quality    0\n",
       "dtype: int64"
      ]
     },
     "execution_count": 6,
     "metadata": {},
     "output_type": "execute_result"
    }
   ],
   "source": [
    "# Check missing values\n",
    "print('There is no missing values!')\n",
    "data.isnull().sum()\n",
    "\n"
   ]
  },
  {
   "cell_type": "code",
   "execution_count": 7,
   "id": "9e78a533",
   "metadata": {},
   "outputs": [
    {
     "data": {
      "text/plain": [
       "Product    17\n",
       "Model      36\n",
       "Volume     12\n",
       "Weight     31\n",
       "Quality    17\n",
       "dtype: int64"
      ]
     },
     "execution_count": 7,
     "metadata": {},
     "output_type": "execute_result"
    }
   ],
   "source": [
    "# Check number of uniqe elements in each columns.\n",
    "data.nunique()"
   ]
  },
  {
   "cell_type": "code",
   "execution_count": 8,
   "id": "c12f3edb",
   "metadata": {
    "scrolled": false
   },
   "outputs": [
    {
     "data": {
      "text/plain": [
       "Text(0.5, 1.0, 'Count of Quality')"
      ]
     },
     "execution_count": 8,
     "metadata": {},
     "output_type": "execute_result"
    },
    {
     "data": {
      "image/png": "[encoded data removed]",
      "text/plain": [
       "<Figure size 1440x432 with 1 Axes>"
      ]
     },
     "metadata": {
      "needs_background": "light"
     },
     "output_type": "display_data"
    },
    {
     "data": {
      "image/png": "[encoded data removed]",
      "text/plain": [
       "<Figure size 1440x432 with 1 Axes>"
      ]
     },
     "metadata": {
      "needs_background": "light"
     },
     "output_type": "display_data"
    },
    {
     "data": {
      "image/png": "[encoded data removed]",
      "text/plain": [
       "<Figure size 1440x432 with 1 Axes>"
      ]
     },
     "metadata": {
      "needs_background": "light"
     },
     "output_type": "display_data"
    }
   ],
   "source": [
    "plt.figure(figsize=(20,6))\n",
    "ax=sns.countplot(data=data, x='Volume')\n",
    "plt.xlabel('Volume')\n",
    "plt.ylabel('Count')\n",
    "plt.title('Count of Volume')\n",
    "\n",
    "plt.figure(figsize=(20,6))\n",
    "ax=sns.countplot(data=data, x='Weight')\n",
    "plt.xlabel('Weight')\n",
    "plt.ylabel('Count')\n",
    "plt.title('Count of Weight')\n",
    "\n",
    "plt.figure(figsize=(20,6))\n",
    "ax=sns.countplot(data=data, x='Quality')\n",
    "plt.xlabel('Quality')\n",
    "plt.ylabel('Count')\n",
    "plt.title('Count of Quality')"
   ]
  },
  {
   "cell_type": "markdown",
   "id": "71125c5f",
   "metadata": {},
   "source": [
    "All normally distributed  with normal shape and distribution"
   ]
  },
  {
   "cell_type": "code",
   "execution_count": 9,
   "id": "ac95c498",
   "metadata": {},
   "outputs": [
    {
     "name": "stdout",
     "output_type": "stream",
     "text": [
      "Outliers in Volume:\n",
      "Series([], Name: Volume, dtype: int64)\n",
      "Outliers in Weight:\n",
      "Series([], Name: Weight, dtype: int64)\n",
      "There are no outliers!\n"
     ]
    }
   ],
   "source": [
    "import pandas as pd\n",
    "import numpy as np\n",
    "\n",
    "# Load the data from Excel file\n",
    "data = pd.read_excel('data.xlsx')\n",
    "\n",
    "# Define a function to identify outliers using the Z-score method\n",
    "def identify_outliers_zscore(data, threshold=3):\n",
    "    z_scores = np.abs((data - data.mean()) / data.std())\n",
    "    return data[z_scores > threshold]\n",
    "\n",
    "# Identify outliers in the 'Volume' column\n",
    "outliers_volume = identify_outliers_zscore(data['Volume'])\n",
    "\n",
    "# Identify outliers in the 'Weight' column\n",
    "outliers_weight = identify_outliers_zscore(data['Weight'])\n",
    "\n",
    "# Display the outliers\n",
    "print(\"Outliers in Volume:\")\n",
    "print(outliers_volume)\n",
    "\n",
    "print(\"Outliers in Weight:\")\n",
    "print(outliers_weight)\n",
    "\n",
    "\n",
    "print('There are no outliers!')"
   ]
  },
  {
   "cell_type": "code",
   "execution_count": 10,
   "id": "dc7f1df5",
   "metadata": {},
   "outputs": [
    {
     "data": {
      "image/png": "[encoded data removed]",
      "text/plain": [
       "<Figure size 432x288 with 1 Axes>"
      ]
     },
     "metadata": {
      "needs_background": "light"
     },
     "output_type": "display_data"
    },
    {
     "name": "stdout",
     "output_type": "stream",
     "text": [
      "No Outliers!\n"
     ]
    }
   ],
   "source": [
    "import pandas as pd\n",
    "import matplotlib.pyplot as plt\n",
    "\n",
    "# Step 3: Read the data from the Excel file\n",
    "data = pd.read_excel('data.xlsx')\n",
    "\n",
    "# Step 4: Create the box plot\n",
    "plt.boxplot([data['Weight'], data['Volume']])\n",
    "plt.xticks([1, 2], ['Weight', 'Volume'])\n",
    "plt.ylabel('Values')\n",
    "plt.title('Box Plot of Weight and Volume')\n",
    "plt.show()\n",
    "\n",
    "print('No Outliers!')"
   ]
  },
  {
   "cell_type": "code",
   "execution_count": 11,
   "id": "8400a8cd",
   "metadata": {},
   "outputs": [
    {
     "name": "stdout",
     "output_type": "stream",
     "text": [
      "R^2 Score: 0.32941109624012743\n"
     ]
    }
   ],
   "source": [
    "import pandas as pd\n",
    "from sklearn.linear_model import LinearRegression\n",
    "from sklearn.model_selection import train_test_split\n",
    "from sklearn.metrics import r2_score\n",
    "\n",
    "# Split the data into features (X) and target variable (y)\n",
    "X = data[['Volume', 'Weight']]\n",
    "y = data['Quality']\n",
    "\n",
    "# Split the data into training and testing sets\n",
    "X_train, X_test, y_train, y_test = train_test_split(X, y, test_size=0.2, random_state=42)\n",
    "\n",
    "# Create a Linear Regression model and fit the model\n",
    "lr = LinearRegression()\n",
    "lr.fit(X_train, y_train)\n",
    "\n",
    "# Make predictions on the test set\n",
    "y_pred = lr.predict(X_test)\n",
    "\n",
    "# Calculate R^2 score as a measure of performance/accuracy\n",
    "r2 = r2_score(y_test, y_pred)\n",
    "print(\"R^2 Score:\", r2)\n"
   ]
  },
  {
   "cell_type": "markdown",
   "id": "9ce047bb",
   "metadata": {},
   "source": [
    "#### Give the model (all parameters report) related to this dataset "
   ]
  },
  {
   "cell_type": "code",
   "execution_count": 12,
   "id": "1c076df8",
   "metadata": {
    "scrolled": false
   },
   "outputs": [
    {
     "name": "stdout",
     "output_type": "stream",
     "text": [
      "                            OLS Regression Results                            \n",
      "==============================================================================\n",
      "Dep. Variable:                Quality   R-squared:                       0.377\n",
      "Model:                            OLS   Adj. R-squared:                  0.339\n",
      "Method:                 Least Squares   F-statistic:                     9.966\n",
      "Date:                Sun, 11 Jun 2023   Prob (F-statistic):           0.000411\n",
      "Time:                        16:32:50   Log-Likelihood:                -114.39\n",
      "No. Observations:                  36   AIC:                             234.8\n",
      "Df Residuals:                      33   BIC:                             239.5\n",
      "Df Model:                           2                                         \n",
      "Covariance Type:            nonrobust                                         \n",
      "==============================================================================\n",
      "                 coef    std err          t      P>|t|      [0.025      0.975]\n",
      "------------------------------------------------------------------------------\n",
      "const         79.6947      5.564     14.322      0.000      68.374      91.016\n",
      "Volume         0.0078      0.004      1.948      0.060      -0.000       0.016\n",
      "Weight         0.0076      0.006      1.173      0.249      -0.006       0.021\n",
      "==============================================================================\n",
      "Omnibus:                        4.957   Durbin-Watson:                   0.944\n",
      "Prob(Omnibus):                  0.084   Jarque-Bera (JB):                1.836\n",
      "Skew:                          -0.025   Prob(JB):                        0.399\n",
      "Kurtosis:                       1.895   Cond. No.                     1.16e+04\n",
      "==============================================================================\n",
      "\n",
      "Notes:\n",
      "[1] Standard Errors assume that the covariance matrix of the errors is correctly specified.\n",
      "[2] The condition number is large, 1.16e+04. This might indicate that there are\n",
      "strong multicollinearity or other numerical problems.\n"
     ]
    }
   ],
   "source": [
    "import pandas as pd\n",
    "import statsmodels.api as sm\n",
    "\n",
    "# Load the data from Excel file\n",
    "data = pd.read_excel('data.xlsx')\n",
    "\n",
    "# Extract the desired columns\n",
    "X = data[['Volume', 'Weight']]\n",
    "y = data['Quality']\n",
    "\n",
    "# Add a constant column to the features matrix\n",
    "X = sm.add_constant(X)\n",
    "\n",
    "# Create a linear regression model\n",
    "model = sm.OLS(y, X)\n",
    "\n",
    "# Fit the model\n",
    "results = model.fit()\n",
    "\n",
    "# Print the summary\n",
    "print(results.summary())\n"
   ]
  },
  {
   "cell_type": "code",
   "execution_count": 13,
   "id": "83624776",
   "metadata": {},
   "outputs": [
    {
     "data": {
      "text/plain": [
       "const     79.694719\n",
       "Volume     0.007805\n",
       "Weight     0.007551\n",
       "dtype: float64"
      ]
     },
     "execution_count": 13,
     "metadata": {},
     "output_type": "execute_result"
    }
   ],
   "source": [
    "# Print the parameters,i.e. intercept and slope of the regression line obtained\n",
    "results.params"
   ]
  },
  {
   "cell_type": "markdown",
   "id": "2c6d59e5",
   "metadata": {},
   "source": [
    "#### Accuracy interpretation:\n",
    "\n",
    "\n",
    "p-value: A low p-value (<0.05) indicates a statistically significant coefficient. In the example, 'Volume' and 'Weight' coefficients are not significant.\n",
    "\n",
    "R-squared: It measures how well the model fits the data. In the example, it explains about 37.7% of the variance in 'Quality'.\n",
    "\n",
    "Adjusted R-squared: Similar to R-squared but considers the number of variables and sample size. In the example, it explains about 33.9% of the variance in 'Quality'."
   ]
  },
  {
   "cell_type": "markdown",
   "id": "39fbf4ae",
   "metadata": {},
   "source": [
    " #### Upload the dataset and describe it"
   ]
  },
  {
   "cell_type": "code",
   "execution_count": 14,
   "id": "343fed46",
   "metadata": {},
   "outputs": [
    {
     "data": {
      "text/html": [
       "<div>\n",
       "<style scoped>\n",
       "    .dataframe tbody tr th:only-of-type {\n",
       "        vertical-align: middle;\n",
       "    }\n",
       "\n",
       "    .dataframe tbody tr th {\n",
       "        vertical-align: top;\n",
       "    }\n",
       "\n",
       "    .dataframe thead th {\n",
       "        text-align: right;\n",
       "    }\n",
       "</style>\n",
       "<table border=\"1\" class=\"dataframe\">\n",
       "  <thead>\n",
       "    <tr style=\"text-align: right;\">\n",
       "      <th></th>\n",
       "      <th>Age</th>\n",
       "      <th>X1</th>\n",
       "      <th>X2</th>\n",
       "      <th>X3</th>\n",
       "      <th>X4</th>\n",
       "      <th>X5</th>\n",
       "      <th>X6</th>\n",
       "      <th>X7</th>\n",
       "      <th>X8</th>\n",
       "      <th>X9</th>\n",
       "      <th>X10</th>\n",
       "      <th>X11</th>\n",
       "      <th>Y</th>\n",
       "    </tr>\n",
       "  </thead>\n",
       "  <tbody>\n",
       "    <tr>\n",
       "      <th>0</th>\n",
       "      <td>75.0</td>\n",
       "      <td>0</td>\n",
       "      <td>582</td>\n",
       "      <td>0</td>\n",
       "      <td>20</td>\n",
       "      <td>1</td>\n",
       "      <td>265000.00</td>\n",
       "      <td>1.9</td>\n",
       "      <td>130</td>\n",
       "      <td>1</td>\n",
       "      <td>0</td>\n",
       "      <td>4</td>\n",
       "      <td>1</td>\n",
       "    </tr>\n",
       "    <tr>\n",
       "      <th>1</th>\n",
       "      <td>55.0</td>\n",
       "      <td>0</td>\n",
       "      <td>7861</td>\n",
       "      <td>0</td>\n",
       "      <td>38</td>\n",
       "      <td>0</td>\n",
       "      <td>263358.03</td>\n",
       "      <td>1.1</td>\n",
       "      <td>136</td>\n",
       "      <td>1</td>\n",
       "      <td>0</td>\n",
       "      <td>6</td>\n",
       "      <td>1</td>\n",
       "    </tr>\n",
       "    <tr>\n",
       "      <th>2</th>\n",
       "      <td>65.0</td>\n",
       "      <td>0</td>\n",
       "      <td>146</td>\n",
       "      <td>0</td>\n",
       "      <td>20</td>\n",
       "      <td>0</td>\n",
       "      <td>162000.00</td>\n",
       "      <td>1.3</td>\n",
       "      <td>129</td>\n",
       "      <td>1</td>\n",
       "      <td>1</td>\n",
       "      <td>7</td>\n",
       "      <td>1</td>\n",
       "    </tr>\n",
       "    <tr>\n",
       "      <th>3</th>\n",
       "      <td>50.0</td>\n",
       "      <td>1</td>\n",
       "      <td>111</td>\n",
       "      <td>0</td>\n",
       "      <td>20</td>\n",
       "      <td>0</td>\n",
       "      <td>210000.00</td>\n",
       "      <td>1.9</td>\n",
       "      <td>137</td>\n",
       "      <td>1</td>\n",
       "      <td>0</td>\n",
       "      <td>7</td>\n",
       "      <td>1</td>\n",
       "    </tr>\n",
       "    <tr>\n",
       "      <th>4</th>\n",
       "      <td>65.0</td>\n",
       "      <td>1</td>\n",
       "      <td>160</td>\n",
       "      <td>1</td>\n",
       "      <td>20</td>\n",
       "      <td>0</td>\n",
       "      <td>327000.00</td>\n",
       "      <td>2.7</td>\n",
       "      <td>116</td>\n",
       "      <td>0</td>\n",
       "      <td>0</td>\n",
       "      <td>8</td>\n",
       "      <td>1</td>\n",
       "    </tr>\n",
       "    <tr>\n",
       "      <th>...</th>\n",
       "      <td>...</td>\n",
       "      <td>...</td>\n",
       "      <td>...</td>\n",
       "      <td>...</td>\n",
       "      <td>...</td>\n",
       "      <td>...</td>\n",
       "      <td>...</td>\n",
       "      <td>...</td>\n",
       "      <td>...</td>\n",
       "      <td>...</td>\n",
       "      <td>...</td>\n",
       "      <td>...</td>\n",
       "      <td>...</td>\n",
       "    </tr>\n",
       "    <tr>\n",
       "      <th>294</th>\n",
       "      <td>62.0</td>\n",
       "      <td>0</td>\n",
       "      <td>61</td>\n",
       "      <td>1</td>\n",
       "      <td>38</td>\n",
       "      <td>1</td>\n",
       "      <td>155000.00</td>\n",
       "      <td>1.1</td>\n",
       "      <td>143</td>\n",
       "      <td>1</td>\n",
       "      <td>1</td>\n",
       "      <td>270</td>\n",
       "      <td>0</td>\n",
       "    </tr>\n",
       "    <tr>\n",
       "      <th>295</th>\n",
       "      <td>55.0</td>\n",
       "      <td>0</td>\n",
       "      <td>1820</td>\n",
       "      <td>0</td>\n",
       "      <td>38</td>\n",
       "      <td>0</td>\n",
       "      <td>270000.00</td>\n",
       "      <td>1.2</td>\n",
       "      <td>139</td>\n",
       "      <td>0</td>\n",
       "      <td>0</td>\n",
       "      <td>271</td>\n",
       "      <td>0</td>\n",
       "    </tr>\n",
       "    <tr>\n",
       "      <th>296</th>\n",
       "      <td>45.0</td>\n",
       "      <td>0</td>\n",
       "      <td>2060</td>\n",
       "      <td>1</td>\n",
       "      <td>60</td>\n",
       "      <td>0</td>\n",
       "      <td>742000.00</td>\n",
       "      <td>0.8</td>\n",
       "      <td>138</td>\n",
       "      <td>0</td>\n",
       "      <td>0</td>\n",
       "      <td>278</td>\n",
       "      <td>0</td>\n",
       "    </tr>\n",
       "    <tr>\n",
       "      <th>297</th>\n",
       "      <td>45.0</td>\n",
       "      <td>0</td>\n",
       "      <td>2413</td>\n",
       "      <td>0</td>\n",
       "      <td>38</td>\n",
       "      <td>0</td>\n",
       "      <td>140000.00</td>\n",
       "      <td>1.4</td>\n",
       "      <td>140</td>\n",
       "      <td>1</td>\n",
       "      <td>1</td>\n",
       "      <td>280</td>\n",
       "      <td>0</td>\n",
       "    </tr>\n",
       "    <tr>\n",
       "      <th>298</th>\n",
       "      <td>50.0</td>\n",
       "      <td>0</td>\n",
       "      <td>196</td>\n",
       "      <td>0</td>\n",
       "      <td>45</td>\n",
       "      <td>0</td>\n",
       "      <td>395000.00</td>\n",
       "      <td>1.6</td>\n",
       "      <td>136</td>\n",
       "      <td>1</td>\n",
       "      <td>1</td>\n",
       "      <td>285</td>\n",
       "      <td>0</td>\n",
       "    </tr>\n",
       "  </tbody>\n",
       "</table>\n",
       "<p>299 rows × 13 columns</p>\n",
       "</div>"
      ],
      "text/plain": [
       "      Age  X1    X2  X3  X4  X5         X6   X7   X8  X9  X10  X11  Y\n",
       "0    75.0   0   582   0  20   1  265000.00  1.9  130   1    0    4  1\n",
       "1    55.0   0  7861   0  38   0  263358.03  1.1  136   1    0    6  1\n",
       "2    65.0   0   146   0  20   0  162000.00  1.3  129   1    1    7  1\n",
       "3    50.0   1   111   0  20   0  210000.00  1.9  137   1    0    7  1\n",
       "4    65.0   1   160   1  20   0  327000.00  2.7  116   0    0    8  1\n",
       "..    ...  ..   ...  ..  ..  ..        ...  ...  ...  ..  ...  ... ..\n",
       "294  62.0   0    61   1  38   1  155000.00  1.1  143   1    1  270  0\n",
       "295  55.0   0  1820   0  38   0  270000.00  1.2  139   0    0  271  0\n",
       "296  45.0   0  2060   1  60   0  742000.00  0.8  138   0    0  278  0\n",
       "297  45.0   0  2413   0  38   0  140000.00  1.4  140   1    1  280  0\n",
       "298  50.0   0   196   0  45   0  395000.00  1.6  136   1    1  285  0\n",
       "\n",
       "[299 rows x 13 columns]"
      ]
     },
     "execution_count": 14,
     "metadata": {},
     "output_type": "execute_result"
    }
   ],
   "source": [
    "data2 = pd.read_excel('Prediction.xlsx')\n",
    "data2"
   ]
  },
  {
   "cell_type": "code",
   "execution_count": 15,
   "id": "8c7d3ac0",
   "metadata": {},
   "outputs": [
    {
     "data": {
      "text/html": [
       "<div>\n",
       "<style scoped>\n",
       "    .dataframe tbody tr th:only-of-type {\n",
       "        vertical-align: middle;\n",
       "    }\n",
       "\n",
       "    .dataframe tbody tr th {\n",
       "        vertical-align: top;\n",
       "    }\n",
       "\n",
       "    .dataframe thead th {\n",
       "        text-align: right;\n",
       "    }\n",
       "</style>\n",
       "<table border=\"1\" class=\"dataframe\">\n",
       "  <thead>\n",
       "    <tr style=\"text-align: right;\">\n",
       "      <th></th>\n",
       "      <th>Age</th>\n",
       "      <th>X1</th>\n",
       "      <th>X2</th>\n",
       "      <th>X3</th>\n",
       "      <th>X4</th>\n",
       "      <th>X5</th>\n",
       "      <th>X6</th>\n",
       "      <th>X7</th>\n",
       "      <th>X8</th>\n",
       "      <th>X9</th>\n",
       "      <th>X10</th>\n",
       "      <th>X11</th>\n",
       "      <th>Y</th>\n",
       "    </tr>\n",
       "  </thead>\n",
       "  <tbody>\n",
       "    <tr>\n",
       "      <th>count</th>\n",
       "      <td>299.000000</td>\n",
       "      <td>299.000000</td>\n",
       "      <td>299.000000</td>\n",
       "      <td>299.000000</td>\n",
       "      <td>299.000000</td>\n",
       "      <td>299.000000</td>\n",
       "      <td>299.000000</td>\n",
       "      <td>299.00000</td>\n",
       "      <td>299.000000</td>\n",
       "      <td>299.000000</td>\n",
       "      <td>299.00000</td>\n",
       "      <td>299.000000</td>\n",
       "      <td>299.00000</td>\n",
       "    </tr>\n",
       "    <tr>\n",
       "      <th>mean</th>\n",
       "      <td>60.833893</td>\n",
       "      <td>0.431438</td>\n",
       "      <td>581.839465</td>\n",
       "      <td>0.418060</td>\n",
       "      <td>38.083612</td>\n",
       "      <td>0.351171</td>\n",
       "      <td>263358.029264</td>\n",
       "      <td>1.39388</td>\n",
       "      <td>136.625418</td>\n",
       "      <td>0.648829</td>\n",
       "      <td>0.32107</td>\n",
       "      <td>130.260870</td>\n",
       "      <td>0.32107</td>\n",
       "    </tr>\n",
       "    <tr>\n",
       "      <th>std</th>\n",
       "      <td>11.894809</td>\n",
       "      <td>0.496107</td>\n",
       "      <td>970.287881</td>\n",
       "      <td>0.494067</td>\n",
       "      <td>11.834841</td>\n",
       "      <td>0.478136</td>\n",
       "      <td>97804.236869</td>\n",
       "      <td>1.03451</td>\n",
       "      <td>4.412477</td>\n",
       "      <td>0.478136</td>\n",
       "      <td>0.46767</td>\n",
       "      <td>77.614208</td>\n",
       "      <td>0.46767</td>\n",
       "    </tr>\n",
       "    <tr>\n",
       "      <th>min</th>\n",
       "      <td>40.000000</td>\n",
       "      <td>0.000000</td>\n",
       "      <td>23.000000</td>\n",
       "      <td>0.000000</td>\n",
       "      <td>14.000000</td>\n",
       "      <td>0.000000</td>\n",
       "      <td>25100.000000</td>\n",
       "      <td>0.50000</td>\n",
       "      <td>113.000000</td>\n",
       "      <td>0.000000</td>\n",
       "      <td>0.00000</td>\n",
       "      <td>4.000000</td>\n",
       "      <td>0.00000</td>\n",
       "    </tr>\n",
       "    <tr>\n",
       "      <th>25%</th>\n",
       "      <td>51.000000</td>\n",
       "      <td>0.000000</td>\n",
       "      <td>116.500000</td>\n",
       "      <td>0.000000</td>\n",
       "      <td>30.000000</td>\n",
       "      <td>0.000000</td>\n",
       "      <td>212500.000000</td>\n",
       "      <td>0.90000</td>\n",
       "      <td>134.000000</td>\n",
       "      <td>0.000000</td>\n",
       "      <td>0.00000</td>\n",
       "      <td>73.000000</td>\n",
       "      <td>0.00000</td>\n",
       "    </tr>\n",
       "    <tr>\n",
       "      <th>50%</th>\n",
       "      <td>60.000000</td>\n",
       "      <td>0.000000</td>\n",
       "      <td>250.000000</td>\n",
       "      <td>0.000000</td>\n",
       "      <td>38.000000</td>\n",
       "      <td>0.000000</td>\n",
       "      <td>262000.000000</td>\n",
       "      <td>1.10000</td>\n",
       "      <td>137.000000</td>\n",
       "      <td>1.000000</td>\n",
       "      <td>0.00000</td>\n",
       "      <td>115.000000</td>\n",
       "      <td>0.00000</td>\n",
       "    </tr>\n",
       "    <tr>\n",
       "      <th>75%</th>\n",
       "      <td>70.000000</td>\n",
       "      <td>1.000000</td>\n",
       "      <td>582.000000</td>\n",
       "      <td>1.000000</td>\n",
       "      <td>45.000000</td>\n",
       "      <td>1.000000</td>\n",
       "      <td>303500.000000</td>\n",
       "      <td>1.40000</td>\n",
       "      <td>140.000000</td>\n",
       "      <td>1.000000</td>\n",
       "      <td>1.00000</td>\n",
       "      <td>203.000000</td>\n",
       "      <td>1.00000</td>\n",
       "    </tr>\n",
       "    <tr>\n",
       "      <th>max</th>\n",
       "      <td>95.000000</td>\n",
       "      <td>1.000000</td>\n",
       "      <td>7861.000000</td>\n",
       "      <td>1.000000</td>\n",
       "      <td>80.000000</td>\n",
       "      <td>1.000000</td>\n",
       "      <td>850000.000000</td>\n",
       "      <td>9.40000</td>\n",
       "      <td>148.000000</td>\n",
       "      <td>1.000000</td>\n",
       "      <td>1.00000</td>\n",
       "      <td>285.000000</td>\n",
       "      <td>1.00000</td>\n",
       "    </tr>\n",
       "  </tbody>\n",
       "</table>\n",
       "</div>"
      ],
      "text/plain": [
       "              Age          X1           X2          X3          X4  \\\n",
       "count  299.000000  299.000000   299.000000  299.000000  299.000000   \n",
       "mean    60.833893    0.431438   581.839465    0.418060   38.083612   \n",
       "std     11.894809    0.496107   970.287881    0.494067   11.834841   \n",
       "min     40.000000    0.000000    23.000000    0.000000   14.000000   \n",
       "25%     51.000000    0.000000   116.500000    0.000000   30.000000   \n",
       "50%     60.000000    0.000000   250.000000    0.000000   38.000000   \n",
       "75%     70.000000    1.000000   582.000000    1.000000   45.000000   \n",
       "max     95.000000    1.000000  7861.000000    1.000000   80.000000   \n",
       "\n",
       "               X5             X6         X7          X8          X9  \\\n",
       "count  299.000000     299.000000  299.00000  299.000000  299.000000   \n",
       "mean     0.351171  263358.029264    1.39388  136.625418    0.648829   \n",
       "std      0.478136   97804.236869    1.03451    4.412477    0.478136   \n",
       "min      0.000000   25100.000000    0.50000  113.000000    0.000000   \n",
       "25%      0.000000  212500.000000    0.90000  134.000000    0.000000   \n",
       "50%      0.000000  262000.000000    1.10000  137.000000    1.000000   \n",
       "75%      1.000000  303500.000000    1.40000  140.000000    1.000000   \n",
       "max      1.000000  850000.000000    9.40000  148.000000    1.000000   \n",
       "\n",
       "             X10         X11          Y  \n",
       "count  299.00000  299.000000  299.00000  \n",
       "mean     0.32107  130.260870    0.32107  \n",
       "std      0.46767   77.614208    0.46767  \n",
       "min      0.00000    4.000000    0.00000  \n",
       "25%      0.00000   73.000000    0.00000  \n",
       "50%      0.00000  115.000000    0.00000  \n",
       "75%      1.00000  203.000000    1.00000  \n",
       "max      1.00000  285.000000    1.00000  "
      ]
     },
     "execution_count": 15,
     "metadata": {},
     "output_type": "execute_result"
    }
   ],
   "source": [
    "data2.describe()"
   ]
  },
  {
   "cell_type": "code",
   "execution_count": 16,
   "id": "7609990f",
   "metadata": {},
   "outputs": [
    {
     "data": {
      "text/plain": [
       "(299, 13)"
      ]
     },
     "execution_count": 16,
     "metadata": {},
     "output_type": "execute_result"
    }
   ],
   "source": [
    "data2.shape"
   ]
  },
  {
   "cell_type": "code",
   "execution_count": 17,
   "id": "2f3e5de4",
   "metadata": {},
   "outputs": [
    {
     "name": "stdout",
     "output_type": "stream",
     "text": [
      "<class 'pandas.core.frame.DataFrame'>\n",
      "RangeIndex: 36 entries, 0 to 35\n",
      "Data columns (total 5 columns):\n",
      " #   Column   Non-Null Count  Dtype \n",
      "---  ------   --------------  ----- \n",
      " 0   Product  36 non-null     object\n",
      " 1   Model    36 non-null     object\n",
      " 2   Volume   36 non-null     int64 \n",
      " 3   Weight   36 non-null     int64 \n",
      " 4   Quality  36 non-null     int64 \n",
      "dtypes: int64(3), object(2)\n",
      "memory usage: 1.5+ KB\n"
     ]
    }
   ],
   "source": [
    "data.info()"
   ]
  },
  {
   "cell_type": "code",
   "execution_count": 18,
   "id": "c30d495d",
   "metadata": {},
   "outputs": [
    {
     "data": {
      "text/plain": [
       "Product    0\n",
       "Model      0\n",
       "Volume     0\n",
       "Weight     0\n",
       "Quality    0\n",
       "dtype: int64"
      ]
     },
     "execution_count": 18,
     "metadata": {},
     "output_type": "execute_result"
    }
   ],
   "source": [
    "# Check missing values\n",
    "data.isnull().sum()"
   ]
  },
  {
   "cell_type": "markdown",
   "id": "c51b91d1",
   "metadata": {},
   "source": [
    "#### Prepare the dataset and make an exploratory analysis"
   ]
  },
  {
   "cell_type": "code",
   "execution_count": 19,
   "id": "97852776",
   "metadata": {},
   "outputs": [
    {
     "data": {
      "image/png": "[encoded data removed]",
      "text/plain": [
       "<Figure size 432x288 with 1 Axes>"
      ]
     },
     "metadata": {
      "needs_background": "light"
     },
     "output_type": "display_data"
    },
    {
     "data": {
      "image/png": "[encoded data removed]",
      "text/plain": [
       "<Figure size 432x288 with 1 Axes>"
      ]
     },
     "metadata": {
      "needs_background": "light"
     },
     "output_type": "display_data"
    },
    {
     "data": {
      "image/png": "[encoded data removed]",
      "text/plain": [
       "<Figure size 432x288 with 1 Axes>"
      ]
     },
     "metadata": {
      "needs_background": "light"
     },
     "output_type": "display_data"
    },
    {
     "data": {
      "image/png": "[encoded data removed]",
      "text/plain": [
       "<Figure size 432x288 with 1 Axes>"
      ]
     },
     "metadata": {
      "needs_background": "light"
     },
     "output_type": "display_data"
    },
    {
     "data": {
      "image/png": "[encoded data removed]",
      "text/plain": [
       "<Figure size 432x288 with 1 Axes>"
      ]
     },
     "metadata": {
      "needs_background": "light"
     },
     "output_type": "display_data"
    },
    {
     "data": {
      "image/png": "[encoded data removed]",
      "text/plain": [
       "<Figure size 432x288 with 1 Axes>"
      ]
     },
     "metadata": {
      "needs_background": "light"
     },
     "output_type": "display_data"
    },
    {
     "data": {
      "image/png": "[encoded data removed]",
      "text/plain": [
       "<Figure size 432x288 with 1 Axes>"
      ]
     },
     "metadata": {
      "needs_background": "light"
     },
     "output_type": "display_data"
    },
    {
     "data": {
      "image/png": "[encoded data removed]",
      "text/plain": [
       "<Figure size 432x288 with 1 Axes>"
      ]
     },
     "metadata": {
      "needs_background": "light"
     },
     "output_type": "display_data"
    },
    {
     "data": {
      "image/png": "[encoded data removed]",
      "text/plain": [
       "<Figure size 432x288 with 1 Axes>"
      ]
     },
     "metadata": {
      "needs_background": "light"
     },
     "output_type": "display_data"
    },
    {
     "data": {
      "image/png": "[encoded data removed]",
      "text/plain": [
       "<Figure size 432x288 with 1 Axes>"
      ]
     },
     "metadata": {
      "needs_background": "light"
     },
     "output_type": "display_data"
    },
    {
     "data": {
      "image/png": "[encoded data removed]",
      "text/plain": [
       "<Figure size 432x288 with 1 Axes>"
      ]
     },
     "metadata": {
      "needs_background": "light"
     },
     "output_type": "display_data"
    },
    {
     "data": {
      "image/png": "[encoded data removed]",
      "text/plain": [
       "<Figure size 432x288 with 1 Axes>"
      ]
     },
     "metadata": {
      "needs_background": "light"
     },
     "output_type": "display_data"
    },
    {
     "data": {
      "image/png": "[encoded data removed]",
      "text/plain": [
       "<Figure size 432x288 with 1 Axes>"
      ]
     },
     "metadata": {
      "needs_background": "light"
     },
     "output_type": "display_data"
    }
   ],
   "source": [
    "import pandas as pd\n",
    "import matplotlib.pyplot as plt\n",
    "\n",
    "# Read the Excel file\n",
    "data2 = pd.read_excel('Prediction.xlsx')\n",
    "\n",
    "# Create individual boxplots\n",
    "for column in data2.columns:\n",
    "    plt.figure(figsize=(6, 4))\n",
    "    plt.boxplot(data2[column])\n",
    "    plt.title('Boxplot of ' + column)\n",
    "    plt.xlabel(column)\n",
    "    plt.ylabel('Values')\n",
    "    plt.show()\n"
   ]
  },
  {
   "cell_type": "markdown",
   "id": "2b2a96be",
   "metadata": {},
   "source": [
    "A couple of variables do have anomalies but there is no consensus about the variables to decide the removing of anomalies so  there will be NO anomaly removing."
   ]
  },
  {
   "cell_type": "code",
   "execution_count": 20,
   "id": "9448e273",
   "metadata": {},
   "outputs": [
    {
     "data": {
      "image/png": "[encoded data removed]",
      "text/plain": [
       "<Figure size 432x288 with 1 Axes>"
      ]
     },
     "metadata": {
      "needs_background": "light"
     },
     "output_type": "display_data"
    },
    {
     "data": {
      "image/png": "[encoded data removed]",
      "text/plain": [
       "<Figure size 432x288 with 1 Axes>"
      ]
     },
     "metadata": {
      "needs_background": "light"
     },
     "output_type": "display_data"
    },
    {
     "data": {
      "image/png": "[encoded data removed]",
      "text/plain": [
       "<Figure size 432x288 with 1 Axes>"
      ]
     },
     "metadata": {
      "needs_background": "light"
     },
     "output_type": "display_data"
    },
    {
     "data": {
      "image/png": "[encoded data removed]",
      "text/plain": [
       "<Figure size 432x288 with 1 Axes>"
      ]
     },
     "metadata": {
      "needs_background": "light"
     },
     "output_type": "display_data"
    },
    {
     "data": {
      "image/png": "[encoded data removed]",
      "text/plain": [
       "<Figure size 432x288 with 1 Axes>"
      ]
     },
     "metadata": {
      "needs_background": "light"
     },
     "output_type": "display_data"
    },
    {
     "data": {
      "image/png": "[encoded data removed]",
      "text/plain": [
       "<Figure size 432x288 with 1 Axes>"
      ]
     },
     "metadata": {
      "needs_background": "light"
     },
     "output_type": "display_data"
    },
    {
     "data": {
      "image/png": "[encoded data removed]",
      "text/plain": [
       "<Figure size 432x288 with 1 Axes>"
      ]
     },
     "metadata": {
      "needs_background": "light"
     },
     "output_type": "display_data"
    },
    {
     "data": {
      "image/png": "[encoded data removed]",
      "text/plain": [
       "<Figure size 432x288 with 1 Axes>"
      ]
     },
     "metadata": {
      "needs_background": "light"
     },
     "output_type": "display_data"
    },
    {
     "data": {
      "image/png": "[encoded data removed]",
      "text/plain": [
       "<Figure size 432x288 with 1 Axes>"
      ]
     },
     "metadata": {
      "needs_background": "light"
     },
     "output_type": "display_data"
    },
    {
     "data": {
      "image/png": "[encoded data removed]",
      "text/plain": [
       "<Figure size 432x288 with 1 Axes>"
      ]
     },
     "metadata": {
      "needs_background": "light"
     },
     "output_type": "display_data"
    },
    {
     "data": {
      "image/png": "[encoded data removed]",
      "text/plain": [
       "<Figure size 432x288 with 1 Axes>"
      ]
     },
     "metadata": {
      "needs_background": "light"
     },
     "output_type": "display_data"
    },
    {
     "data": {
      "image/png": "[encoded data removed]",
      "text/plain": [
       "<Figure size 432x288 with 1 Axes>"
      ]
     },
     "metadata": {
      "needs_background": "light"
     },
     "output_type": "display_data"
    },
    {
     "data": {
      "image/png": "[encoded data removed]",
      "text/plain": [
       "<Figure size 432x288 with 1 Axes>"
      ]
     },
     "metadata": {
      "needs_background": "light"
     },
     "output_type": "display_data"
    }
   ],
   "source": [
    "# Loop through each variable and create a histogram\n",
    "for column in data2.columns:\n",
    "    plt.hist(data2[column], bins=10)\n",
    "    plt.xlabel(column)\n",
    "    plt.ylabel('Frequency')\n",
    "    plt.title('Histogram of ' + column)\n",
    "    plt.show()\n"
   ]
  },
  {
   "cell_type": "markdown",
   "id": "a76ebeaa",
   "metadata": {},
   "source": [
    "half of the variables follow a normal distribution indicating healthy data variability, some data has very skewed data and some data are binary (0 and 1)"
   ]
  },
  {
   "cell_type": "markdown",
   "id": "b2a8647a",
   "metadata": {},
   "source": [
    "### Generate the following models with their accuracy"
   ]
  },
  {
   "cell_type": "markdown",
   "id": "10cb8e3e",
   "metadata": {},
   "source": [
    "#### Logistic Regression"
   ]
  },
  {
   "cell_type": "code",
   "execution_count": 21,
   "id": "8567065e",
   "metadata": {},
   "outputs": [
    {
     "name": "stdout",
     "output_type": "stream",
     "text": [
      "Logistic Regression Accuracy: 0.8\n"
     ]
    }
   ],
   "source": [
    "import pandas as pd\n",
    "from sklearn.model_selection import train_test_split\n",
    "from sklearn.linear_model import LogisticRegression\n",
    "from sklearn.metrics import accuracy_score\n",
    "\n",
    "# Read the data\n",
    "data = pd.read_excel('Prediction.xlsx')\n",
    "X = data.drop('Y', axis=1)  # Input features (excluding the target variable)\n",
    "y = data['Y']  # Target variable\n",
    "\n",
    "# Split the data into training and testing sets\n",
    "X_train, X_test, y_train, y_test = train_test_split(X, y, test_size=0.2, random_state=42)\n",
    "\n",
    "# Create a logistic regression model\n",
    "model = LogisticRegression()\n",
    "\n",
    "# Fit the model on the training data\n",
    "model.fit(X_train, y_train)\n",
    "\n",
    "# Make predictions on the test data\n",
    "y_pred = model.predict(X_test)\n",
    "\n",
    "# Calculate the accuracy of the model\n",
    "accuracy = accuracy_score(y_test, y_pred)\n",
    "\n",
    "print(\"Logistic Regression Accuracy:\", accuracy)\n"
   ]
  },
  {
   "cell_type": "markdown",
   "id": "81b9f60a",
   "metadata": {},
   "source": [
    "#### Naive Bayes"
   ]
  },
  {
   "cell_type": "code",
   "execution_count": 22,
   "id": "f2597c8b",
   "metadata": {},
   "outputs": [
    {
     "name": "stdout",
     "output_type": "stream",
     "text": [
      "Naïve Bayes Accuracy: 0.7333333333333333\n"
     ]
    }
   ],
   "source": [
    "import pandas as pd\n",
    "from sklearn.model_selection import train_test_split\n",
    "from sklearn.naive_bayes import GaussianNB\n",
    "from sklearn.metrics import accuracy_score\n",
    "\n",
    "# Read the data\n",
    "data = pd.read_excel('Prediction.xlsx')\n",
    "X = data.drop('Y', axis=1)  # Input features (excluding the target variable)\n",
    "y = data['Y']  # Target variable\n",
    "\n",
    "# Split the data into training and testing sets\n",
    "X_train, X_test, y_train, y_test = train_test_split(X, y, test_size=0.2, random_state=42)\n",
    "\n",
    "# Create a Naïve Bayes model (Gaussian Naïve Bayes for continuous features)\n",
    "model = GaussianNB()\n",
    "\n",
    "# Fit the model on the training data\n",
    "model.fit(X_train, y_train)\n",
    "\n",
    "# Make predictions on the test data\n",
    "y_pred = model.predict(X_test)\n",
    "\n",
    "# Calculate the accuracy of the model\n",
    "accuracy = accuracy_score(y_test, y_pred)\n",
    "\n",
    "print(\"Naïve Bayes Accuracy:\", accuracy)\n"
   ]
  },
  {
   "cell_type": "markdown",
   "id": "9a27d293",
   "metadata": {},
   "source": [
    "#### Decision Tree"
   ]
  },
  {
   "cell_type": "code",
   "execution_count": 23,
   "id": "99c71ac3",
   "metadata": {},
   "outputs": [
    {
     "name": "stdout",
     "output_type": "stream",
     "text": [
      "Decision Tree Accuracy: 0.6666666666666666\n"
     ]
    }
   ],
   "source": [
    "import pandas as pd\n",
    "from sklearn.model_selection import train_test_split\n",
    "from sklearn.tree import DecisionTreeClassifier\n",
    "from sklearn.metrics import accuracy_score\n",
    "\n",
    "# Read the data\n",
    "data = pd.read_excel('Prediction.xlsx')\n",
    "X = data.drop('Y', axis=1)  # Input features (excluding the target variable)\n",
    "y = data['Y']  # Target variable\n",
    "\n",
    "# Split the data into training and testing sets\n",
    "X_train, X_test, y_train, y_test = train_test_split(X, y, test_size=0.2, random_state=42)\n",
    "\n",
    "# Create a Decision Tree model\n",
    "model = DecisionTreeClassifier()\n",
    "\n",
    "# Fit the model on the training data\n",
    "model.fit(X_train, y_train)\n",
    "\n",
    "# Make predictions on the test data\n",
    "y_pred = model.predict(X_test)\n",
    "\n",
    "# Calculate the accuracy of the model\n",
    "accuracy = accuracy_score(y_test, y_pred)\n",
    "\n",
    "print(\"Decision Tree Accuracy:\", accuracy)\n"
   ]
  },
  {
   "cell_type": "markdown",
   "id": "16b8d30d",
   "metadata": {},
   "source": [
    "#### Random Forest"
   ]
  },
  {
   "cell_type": "code",
   "execution_count": 24,
   "id": "940bc1fe",
   "metadata": {},
   "outputs": [
    {
     "name": "stdout",
     "output_type": "stream",
     "text": [
      "Random Forest Accuracy: 0.7333333333333333\n"
     ]
    }
   ],
   "source": [
    "import pandas as pd\n",
    "from sklearn.model_selection import train_test_split\n",
    "from sklearn.ensemble import RandomForestClassifier\n",
    "from sklearn.metrics import accuracy_score\n",
    "\n",
    "# Read the data\n",
    "data = pd.read_excel('Prediction.xlsx')\n",
    "X = data.drop('Y', axis=1)  # Input features (excluding the target variable)\n",
    "y = data['Y']  # Target variable\n",
    "\n",
    "# Split the data into training and testing sets\n",
    "X_train, X_test, y_train, y_test = train_test_split(X, y, test_size=0.2, random_state=42)\n",
    "\n",
    "# Create a Random Forest model\n",
    "model = RandomForestClassifier()\n",
    "\n",
    "# Fit the model on the training data\n",
    "model.fit(X_train, y_train)\n",
    "\n",
    "# Make predictions on the test data\n",
    "y_pred = model.predict(X_test)\n",
    "\n",
    "# Calculate the accuracy of the model\n",
    "accuracy = accuracy_score(y_test, y_pred)\n",
    "\n",
    "print(\"Random Forest Accuracy:\", accuracy)\n"
   ]
  },
  {
   "cell_type": "markdown",
   "id": "ba54d717",
   "metadata": {},
   "source": [
    "#### KNN "
   ]
  },
  {
   "cell_type": "code",
   "execution_count": 25,
   "id": "28e8add3",
   "metadata": {},
   "outputs": [
    {
     "name": "stdout",
     "output_type": "stream",
     "text": [
      "KNN Accuracy: 0.5333333333333333\n"
     ]
    }
   ],
   "source": [
    "import pandas as pd\n",
    "from sklearn.model_selection import train_test_split\n",
    "from sklearn.neighbors import KNeighborsClassifier\n",
    "from sklearn.metrics import accuracy_score\n",
    "\n",
    "# Read the data\n",
    "data = pd.read_excel('Prediction.xlsx')\n",
    "X = data.drop('Y', axis=1)  # Input features (excluding the target variable)\n",
    "y = data['Y']  # Target variable\n",
    "\n",
    "# Split the data into training and testing sets\n",
    "X_train, X_test, y_train, y_test = train_test_split(X, y, test_size=0.2, random_state=42)\n",
    "\n",
    "# Create a KNN model\n",
    "model = KNeighborsClassifier()\n",
    "\n",
    "# Fit the model on the training data\n",
    "model.fit(X_train, y_train)\n",
    "\n",
    "# Make predictions on the test data\n",
    "y_pred = model.predict(X_test)\n",
    "\n",
    "# Calculate the accuracy of the model\n",
    "accuracy = accuracy_score(y_test, y_pred)\n",
    "\n",
    "print(\"KNN Accuracy:\", accuracy)\n"
   ]
  },
  {
   "cell_type": "markdown",
   "id": "f73dfbe9",
   "metadata": {},
   "source": [
    "##### Logistic Regression Accuracy: 0.8\n",
    "The logistic regression model has an 80% accuracy, indicating the best performance in classification compared to other models.\n",
    "\n",
    "##### Naïve Bayes Accuracy: 0.7333\n",
    "The Naïve Bayes model achieves a 73.33% accuracy, suggesting reasonably accurate classification.\n",
    "\n",
    "##### Decision Tree Accuracy: 0.6333\n",
    "The decision tree model has a 63.33% accuracy, indicating moderate classification performance.\n",
    "\n",
    "##### Random Forest Accuracy: 0.7333\n",
    "The random forest model achieves a 73.33% accuracy, similar to Naïve Bayes in classification accuracy.\n",
    "\n",
    "##### KNN Accuracy: 0.5333\n",
    "The K-nearest neighbors (KNN) model has a 53.33% accuracy, indicating lower classification performance compared to other models."
   ]
  },
  {
   "attachments": {
    "image.png": {
     "image/png": "[encoded data removed]"
    }
   },
   "cell_type": "markdown",
   "id": "d5f30eac",
   "metadata": {},
   "source": [
    "![image.png](attachment:image.png)"
   ]
  },
  {
   "cell_type": "code",
   "execution_count": 26,
   "id": "fd67e324",
   "metadata": {},
   "outputs": [
    {
     "name": "stdout",
     "output_type": "stream",
     "text": [
      "Predicted condition number: 0\n",
      "Flu condition? : No\n"
     ]
    }
   ],
   "source": [
    "import pandas as pd\n",
    "from sklearn.naive_bayes import GaussianNB\n",
    "\n",
    "# Create the dataset\n",
    "data = {\n",
    "    'Pain': ['Yes', 'Yes', 'Yes', 'No', 'No', 'No', 'No', 'Yes'],\n",
    "    'Fatigue': ['No', 'Yes', 'No', 'Yes', 'No', 'Yes', 'Yes', 'Yes'],\n",
    "    'Headache': ['Soft', 'No', 'Severe', 'Soft', 'No', 'Severe', 'Severe', 'Soft'],\n",
    "    'Fever': ['Yes', 'No', 'Yes', 'Yes', 'No', 'Yes', 'No', 'Yes'],\n",
    "    'Flu?': ['No', 'Yes', 'Yes', 'Yes', 'No', 'Yes', 'No', 'Yes'],\n",
    "    'Diagnosis': ['No', 'No', 'Yes', 'Yes', 'No', 'Yes', 'No', 'Yes']\n",
    "}\n",
    "\n",
    "df = pd.DataFrame(data)\n",
    "\n",
    "# Convert categorical variables to numerical values\n",
    "df.replace({'Yes': 1, 'No': 0, 'Soft': 1, 'Severe': 0}, inplace=True)\n",
    "\n",
    "# Split the data into features (X) and target (y)\n",
    "X = df.drop('Diagnosis', axis=1)\n",
    "y = df['Diagnosis']\n",
    "\n",
    "# Create and train the Naïve Bayes model\n",
    "model = GaussianNB()\n",
    "model.fit(X, y)\n",
    "\n",
    "\n",
    "\n",
    "# Using the naive Bayes classification, predict the condition of a patient with the following symptoms:\n",
    "\n",
    "# Predict the condition for a new patient\n",
    "new_patient = pd.DataFrame({'Pain': [0], 'Fatigue': [0], 'Headache': [1], 'Fever': [1], 'Flu?': [0]})\n",
    "new_patient.replace({'Yes': 1, 'No': 0, 'Soft': 1, 'Severe': 0}, inplace=True)\n",
    "\n",
    "prediction = model.predict(new_patient)\n",
    "\n",
    "condition_number = prediction[0]\n",
    "condition_mapping = {1: 'Yes', 0: 'No'}\n",
    "\n",
    "print(\"Predicted condition number:\", condition_number)\n",
    "print(\"Flu condition? :\", condition_mapping[condition_number])\n"
   ]
  },
  {
   "cell_type": "markdown",
   "id": "9e2e21fa",
   "metadata": {},
   "source": [
    "#### Give the values of the following probabilities:\n",
    "\n",
    "𝑃(𝑃𝑎𝑖𝑛 = 𝑁𝑜|𝑁𝑜) (2 Marks)\n",
    "𝑃(𝐻𝑒𝑎𝑑𝑎𝑐ℎ𝑒 = 𝑆𝑜𝑓𝑡|𝑌𝑒𝑠) (2 Marks)"
   ]
  },
  {
   "cell_type": "code",
   "execution_count": 27,
   "id": "722cd63f",
   "metadata": {},
   "outputs": [
    {
     "name": "stdout",
     "output_type": "stream",
     "text": [
      "P(Pain = No | No): 1.0\n",
      "P(Headache = Soft | Yes): 0.9999999999825029\n"
     ]
    },
    {
     "name": "stderr",
     "output_type": "stream",
     "text": [
      "C:\\Users\\abdul\\anaconda3\\lib\\site-packages\\sklearn\\base.py:450: UserWarning: X does not have valid feature names, but GaussianNB was fitted with feature names\n",
      "  warnings.warn(\n",
      "C:\\Users\\abdul\\anaconda3\\lib\\site-packages\\sklearn\\base.py:450: UserWarning: X does not have valid feature names, but GaussianNB was fitted with feature names\n",
      "  warnings.warn(\n"
     ]
    }
   ],
   "source": [
    "import pandas as pd\n",
    "from sklearn.naive_bayes import GaussianNB\n",
    "\n",
    "\n",
    "# Calculate the probabilities\n",
    "# P(Pain = No | No)\n",
    "prob_pain_no_given_no = model.predict_proba([[0, 0, 0, 1, 0]])[0][0]\n",
    "\n",
    "# P(Headache = Soft | Yes)\n",
    "prob_headache_soft_given_yes = model.predict_proba([[1, 1, 1, 1, 1]])[0][1]  # Modified index to 1\n",
    "\n",
    "print(\"P(Pain = No | No):\", prob_pain_no_given_no)\n",
    "print(\"P(Headache = Soft | Yes):\", prob_headache_soft_given_yes)\n"
   ]
  },
  {
   "cell_type": "markdown",
   "id": "e5cebb22",
   "metadata": {},
   "source": [
    "#### Let the data 𝑥 = (Pain = 𝑁𝑜, 𝐹𝑎𝑡𝑖𝑔𝑢𝑒 = 𝑁𝑜, Headache = Soft, Fever = Yes). Give the value of:\n",
    "𝑝(𝑥|𝑓𝑙𝑢 = 𝑌𝑒𝑠) (2 Marks)\n",
    "𝑝(𝑥|𝑓𝑙𝑢 = 𝑁𝑜)"
   ]
  },
  {
   "cell_type": "code",
   "execution_count": 28,
   "id": "02006013",
   "metadata": {},
   "outputs": [
    {
     "name": "stdout",
     "output_type": "stream",
     "text": [
      "𝑝(𝑥|𝑓𝑙𝑢 = 𝑌𝑒𝑠): 0.0\n",
      "𝑝(𝑥|𝑓𝑙𝑢 = 𝑁𝑜): 1.0\n"
     ]
    },
    {
     "name": "stderr",
     "output_type": "stream",
     "text": [
      "C:\\Users\\abdul\\anaconda3\\lib\\site-packages\\sklearn\\base.py:450: UserWarning: X does not have valid feature names, but GaussianNB was fitted with feature names\n",
      "  warnings.warn(\n",
      "C:\\Users\\abdul\\anaconda3\\lib\\site-packages\\sklearn\\base.py:450: UserWarning: X does not have valid feature names, but GaussianNB was fitted with feature names\n",
      "  warnings.warn(\n"
     ]
    }
   ],
   "source": [
    "import pandas as pd\n",
    "from sklearn.naive_bayes import GaussianNB\n",
    "\n",
    "\n",
    "\n",
    "# Define the values of 𝑥\n",
    "x = [[0, 0, 1, 1, 0]]  # [Pain = No, Fatigue = No, Headache = Soft, Fever = Yes]\n",
    "\n",
    "# Calculate the probabilities\n",
    "# 𝑝(𝑥|𝑓𝑙𝑢 = 𝑌𝑒𝑠)\n",
    "prob_x_given_flu_yes = model.predict_proba(x)[0][1]\n",
    "\n",
    "# 𝑝(𝑥|𝑓𝑙𝑢 = 𝑁𝑜)\n",
    "prob_x_given_flu_no = model.predict_proba(x)[0][0]\n",
    "\n",
    "print(\"𝑝(𝑥|𝑓𝑙𝑢 = 𝑌𝑒𝑠):\", prob_x_given_flu_yes)\n",
    "print(\"𝑝(𝑥|𝑓𝑙𝑢 = 𝑁𝑜):\", prob_x_given_flu_no)\n"
   ]
  },
  {
   "attachments": {
    "image.png": {
     "image/png": "[encoded data removed]"
    }
   },
   "cell_type": "markdown",
   "id": "53bc1e37",
   "metadata": {},
   "source": [
    "![image.png](attachment:image.png)"
   ]
  },
  {
   "cell_type": "markdown",
   "id": "3d678b2e",
   "metadata": {},
   "source": [
    "If we have a dataset where the outcomes are missing and the only outcomes present are Yes instead of Yes and No:\n",
    "\n",
    "##### Biased predictions: \n",
    "Since the model has no exposure to the \"No\" class in the training data, it will always predict the available class (\"Yes\") for any new instances. This is because it lacks information about the alternative outcome.\n",
    "\n",
    "##### Incomplete representation: \n",
    "The model's ability to accurately represent the underlying distribution and relationships between the features and outcomes is compromised. It cannot learn the patterns associated with the missing class, potentially leading to incomplete or inaccurate predictions.\n",
    "\n",
    "##### Limited decision boundaries: \n",
    "Without examples from the missing class, the model's decision boundaries may be skewed and not reflect the true separation between the classes. It may struggle to capture the full complexity of the problem and provide reliable predictions.\n",
    "\n",
    "##### Reduced model performance: \n",
    "Since the model is not exposed to the missing class, it may suffer from decreased overall performance. It may have difficulty in capturing the true predictive patterns and making accurate predictions for unseen instances that belong to the missing class.\n",
    "\n",
    "\n",
    "Thus, the predicted outcomes based on the training data will be just Yes. The only rows in the data that will be effectively used from prediction is 2, thus there is very low training data and biased data."
   ]
  },
  {
   "cell_type": "markdown",
   "id": "ff43c7a1",
   "metadata": {},
   "source": [
    "# ----------------------------------------------Thank You------------------------------------------------\n",
    "\n",
    "Abdulla Faisal Aljar\n",
    "\n",
    "QM459\n",
    "\n",
    "Final Exam\n",
    "\n",
    "2023\n",
    "\n",
    "University of Bahrain"
   ]
  },
  {
   "cell_type": "markdown",
   "id": "61f2733b",
   "metadata": {},
   "source": []
  }
 ],
 "metadata": {
  "kernelspec": {
   "display_name": "Python 3 (ipykernel)",
   "language": "python",
   "name": "python3"
  },
  "language_info": {
   "codemirror_mode": {
    "name": "ipython",
    "version": 3
   },
   "file_extension": ".py",
   "mimetype": "text/x-python",
   "name": "python",
   "nbconvert_exporter": "python",
   "pygments_lexer": "ipython3",
   "version": "3.9.12"
  }
 },
 "nbformat": 4,
 "nbformat_minor": 5
}
